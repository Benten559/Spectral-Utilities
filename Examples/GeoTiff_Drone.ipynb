{
 "cells": [
  {
   "cell_type": "markdown",
   "metadata": {},
   "source": [
    "#### Use of spatial data\n",
    "Currently, if a loaded data set is not of the pushbroom (BIL) type, it will contain only a single lat/long"
   ]
  },
  {
   "cell_type": "code",
   "execution_count": 1,
   "metadata": {},
   "outputs": [],
   "source": [
    "import matplotlib.pyplot as plt # for display purposes\n",
    "import sys\n",
    "sys.path.append(\"..\")\n",
    "from SpectralUtilities import HSI_Model, HDRprocess, GPGGAParser"
   ]
  },
  {
   "cell_type": "code",
   "execution_count": 15,
   "metadata": {},
   "outputs": [],
   "source": [
    "# Modify these paths from NAS1 to generate the folders of tif files from drone capture in all wavelengths\n",
    "# The offsets correspond to the images of when the drone reached its running altititude\n",
    "IOP_Name = \"IOP6\"\n",
    "rootPath = r\"V:\\Data\\Hypervid\\St_Supery\\IOP6_October2021\\drone\\5ms_40b_wide_211012_130835\\drone_40b_wide 2\"\n",
    "savePath = r\"Z:\\Data\\Hypervid\\Drone\\St_Supery\\IOP6_test\"\n",
    "start = 40\n",
    "end = 100\n",
    "\n",
    "captureName = rootPath.split('\\\\')[6]\n",
    "dirs = HDRprocess.get_folder_list_from_root_dir(rootPath)\n",
    "hdrs = [HDRprocess.get_hdr_file_path(dir) for dir in dirs[start:end]]"
   ]
  },
  {
   "cell_type": "code",
   "execution_count": null,
   "metadata": {},
   "outputs": [],
   "source": [
    "# Generate tif images of all captures selected for each wavelength.\n",
    "i = int(hdrs[start].split('_')[-1].split('.')[0])\n",
    "for hdr in hdrs:\n",
    "    \n",
    "    Data_HSI = HSI_Model(path_hcube=hdr,imgName=f\"drone_40b_wide 2_0000{str(i)}\",load_data=True)\n",
    "    Data_HSI.georef_band(savePath=r\"Z:\\Data\\Hypervid\\Drone\\St_Supery\\IOP6_test\",band=24,diagonalExtent=34.4,heading=0)\n",
    "    i = i+1    "
   ]
  },
  {
   "cell_type": "code",
   "execution_count": 2,
   "metadata": {},
   "outputs": [
    {
     "name": "stdout",
     "output_type": "stream",
     "text": [
      "The coordinate point, Latitude: 38.45729795, Longitude: -122.41017385\n"
     ]
    }
   ],
   "source": [
    "print(f\"The coordinate point, Latitude: {Data_HSI.latList}, Longitude: {Data_HSI.longList}\")"
   ]
  },
  {
   "cell_type": "markdown",
   "metadata": {},
   "source": [
    "### Generate a geotiff\n",
    "Lots of parameters here many of which are optional, may require some experimentation"
   ]
  },
  {
   "cell_type": "code",
   "execution_count": 3,
   "metadata": {},
   "outputs": [
    {
     "name": "stdout",
     "output_type": "stream",
     "text": [
      "Help on method georef_band in module SpectralUtilities.HSI_Model:\n",
      "\n",
      "georef_band(savePath: str, band: int, diagonalExtent: float, heading: int = 0, dOffset: int = 0, rot: bool = False, rotAngle: int = 0) -> None method of SpectralUtilities.HSI_Model.HSI_Model instance\n",
      "    Produce a georeferenced image and save to disk.\n",
      "    Provide a capture window in meters, and a \n",
      "    \n",
      "    Parameters:\n",
      "    -----------\n",
      "        savePath         (str)   : The directory location to save the output file\n",
      "        band             (int)   : What wavelength to perform this operation on, by index\n",
      "        diagonalExtent   (float) : The extent by which the capture frame covers in meters\n",
      "        heading          (int)   : The pygeo standard for bearing, used in image skew. In the case of North-up imagery, use default 0. \n",
      "        dOffset          (int)   : For non-aerial imagery, this offset serves to place the point of capture with subject, default 0.\n",
      "        dOffsetBearing   (int)   : The direction for which to apply the offset to subject. [0:360]\n",
      "\n"
     ]
    }
   ],
   "source": [
    "help(Data_HSI.georef_band)"
   ]
  },
  {
   "cell_type": "code",
   "execution_count": 9,
   "metadata": {},
   "outputs": [
    {
     "name": "stdout",
     "output_type": "stream",
     "text": [
      "Image saved: C:\\Users\\15593\\Desktop\\NAS2 Work\\DroneImagery\\testGeoTiff/drone_40b_wide 2_000065_band24.tif\n"
     ]
    }
   ],
   "source": [
    "\n",
    "Data_HSI.georef_band(savePath=r\"C:\\Users\\15593\\Desktop\\NAS2 Work\\DroneImagery\\testGeoTiff\",band=24,diagonalExtent=34.4,heading=58)\n"
   ]
  },
  {
   "cell_type": "code",
   "execution_count": 7,
   "metadata": {},
   "outputs": [
    {
     "name": "stdout",
     "output_type": "stream",
     "text": [
      "loading hypercube...\n",
      "RGB is not initialized\n",
      "HSI load complete...\n"
     ]
    }
   ],
   "source": [
    "# prevHSI = r\"V:\\Data\\Hypervid\\St_Supery\\IOP3_July2021\\drone\\5ms_40b_wide_210728_141229\\drone_40b_wide 2\\drone_40b_wide 2_000095\\drone_40b_wide 2_000095.hdr\"\n",
    "Data_HSI = HSI_Model(path_hcube=hdrs[65],imgName=\"drone_40b_wide 2_000065\",load_data=True) \n"
   ]
  },
  {
   "cell_type": "code",
   "execution_count": 6,
   "metadata": {},
   "outputs": [
    {
     "name": "stdout",
     "output_type": "stream",
     "text": [
      "loading hypercube...\n",
      "RGB is not initialized\n",
      "HSI load complete...\n"
     ]
    }
   ],
   "source": [
    "# farbackHSI = r\"V:\\Data\\Hypervid\\St_Supery\\IOP3_July2021\\drone\\5ms_40b_wide_210728_141229\\drone_40b_wide 2\\drone_40b_wide 2_000076\\drone_40b_wide 2_000076.hdr\"\n",
    "# Data_HSI = HSI_Model(path_hcube=farbackHSI,imgName=\"drone_40b_wide 2_000076\",load_data=True) "
   ]
  }
 ],
 "metadata": {
  "kernelspec": {
   "display_name": "Python 3.10.0 64-bit",
   "language": "python",
   "name": "python3"
  },
  "language_info": {
   "codemirror_mode": {
    "name": "ipython",
    "version": 3
   },
   "file_extension": ".py",
   "mimetype": "text/x-python",
   "name": "python",
   "nbconvert_exporter": "python",
   "pygments_lexer": "ipython3",
   "version": "3.10.0"
  },
  "orig_nbformat": 4,
  "vscode": {
   "interpreter": {
    "hash": "369f2c481f4da34e4445cda3fffd2e751bd1c4d706f27375911949ba6bb62e1c"
   }
  }
 },
 "nbformat": 4,
 "nbformat_minor": 2
}
