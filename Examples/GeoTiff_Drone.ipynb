{
 "cells": [
  {
   "cell_type": "markdown",
   "metadata": {},
   "source": [
    "#### Use of spatial data\n",
    "Currently, if a loaded data set is not of the pushbroom (BIL) type, it will contain only a single lat/long"
   ]
  },
  {
   "cell_type": "code",
   "execution_count": 1,
   "metadata": {},
   "outputs": [],
   "source": [
    "import matplotlib.pyplot as plt # for display purposes\n",
    "import sys\n",
    "sys.path.append(\"..\")\n",
    "from SpectralUtilities import HSI_Model, HDRprocess, GPGGAParser"
   ]
  },
  {
   "cell_type": "code",
   "execution_count": 2,
   "metadata": {},
   "outputs": [],
   "source": [
    "rootPath = r\"V:\\Data\\Hypervid\\St_Supery\\IOP6_October2021\\drone\\5ms_40b_wide_211012_130835\\drone_40b_wide 2\"#r\"V:\\Data\\Hypervid\\St_Supery\\IOP3_July2021\\drone\\5ms_40b_wide_210728_141229\\drone_40b_wide 2\"\n",
    "dirs = HDRprocess.get_folder_list_from_root_dir(rootPath)\n",
    "hdrs = [HDRprocess.get_hdr_file_path(dir) for dir in dirs[40:100]]"
   ]
  },
  {
   "cell_type": "code",
   "execution_count": 3,
   "metadata": {},
   "outputs": [
    {
     "data": {
      "text/plain": [
       "['V:\\\\Data\\\\Hypervid\\\\St_Supery\\\\IOP6_October2021\\\\drone\\\\5ms_40b_wide_211012_130835\\\\drone_40b_wide 2\\\\drone_40b_wide 2_000040\\\\drone_40b_wide 2_000040.hdr',\n",
       " 'V:\\\\Data\\\\Hypervid\\\\St_Supery\\\\IOP6_October2021\\\\drone\\\\5ms_40b_wide_211012_130835\\\\drone_40b_wide 2\\\\drone_40b_wide 2_000041\\\\drone_40b_wide 2_000041.hdr',\n",
       " 'V:\\\\Data\\\\Hypervid\\\\St_Supery\\\\IOP6_October2021\\\\drone\\\\5ms_40b_wide_211012_130835\\\\drone_40b_wide 2\\\\drone_40b_wide 2_000042\\\\drone_40b_wide 2_000042.hdr',\n",
       " 'V:\\\\Data\\\\Hypervid\\\\St_Supery\\\\IOP6_October2021\\\\drone\\\\5ms_40b_wide_211012_130835\\\\drone_40b_wide 2\\\\drone_40b_wide 2_000043\\\\drone_40b_wide 2_000043.hdr',\n",
       " 'V:\\\\Data\\\\Hypervid\\\\St_Supery\\\\IOP6_October2021\\\\drone\\\\5ms_40b_wide_211012_130835\\\\drone_40b_wide 2\\\\drone_40b_wide 2_000044\\\\drone_40b_wide 2_000044.hdr',\n",
       " 'V:\\\\Data\\\\Hypervid\\\\St_Supery\\\\IOP6_October2021\\\\drone\\\\5ms_40b_wide_211012_130835\\\\drone_40b_wide 2\\\\drone_40b_wide 2_000045\\\\drone_40b_wide 2_000045.hdr',\n",
       " 'V:\\\\Data\\\\Hypervid\\\\St_Supery\\\\IOP6_October2021\\\\drone\\\\5ms_40b_wide_211012_130835\\\\drone_40b_wide 2\\\\drone_40b_wide 2_000046\\\\drone_40b_wide 2_000046.hdr',\n",
       " 'V:\\\\Data\\\\Hypervid\\\\St_Supery\\\\IOP6_October2021\\\\drone\\\\5ms_40b_wide_211012_130835\\\\drone_40b_wide 2\\\\drone_40b_wide 2_000047\\\\drone_40b_wide 2_000047.hdr',\n",
       " 'V:\\\\Data\\\\Hypervid\\\\St_Supery\\\\IOP6_October2021\\\\drone\\\\5ms_40b_wide_211012_130835\\\\drone_40b_wide 2\\\\drone_40b_wide 2_000048\\\\drone_40b_wide 2_000048.hdr',\n",
       " 'V:\\\\Data\\\\Hypervid\\\\St_Supery\\\\IOP6_October2021\\\\drone\\\\5ms_40b_wide_211012_130835\\\\drone_40b_wide 2\\\\drone_40b_wide 2_000049\\\\drone_40b_wide 2_000049.hdr',\n",
       " 'V:\\\\Data\\\\Hypervid\\\\St_Supery\\\\IOP6_October2021\\\\drone\\\\5ms_40b_wide_211012_130835\\\\drone_40b_wide 2\\\\drone_40b_wide 2_000050\\\\drone_40b_wide 2_000050.hdr',\n",
       " 'V:\\\\Data\\\\Hypervid\\\\St_Supery\\\\IOP6_October2021\\\\drone\\\\5ms_40b_wide_211012_130835\\\\drone_40b_wide 2\\\\drone_40b_wide 2_000051\\\\drone_40b_wide 2_000051.hdr',\n",
       " 'V:\\\\Data\\\\Hypervid\\\\St_Supery\\\\IOP6_October2021\\\\drone\\\\5ms_40b_wide_211012_130835\\\\drone_40b_wide 2\\\\drone_40b_wide 2_000052\\\\drone_40b_wide 2_000052.hdr',\n",
       " 'V:\\\\Data\\\\Hypervid\\\\St_Supery\\\\IOP6_October2021\\\\drone\\\\5ms_40b_wide_211012_130835\\\\drone_40b_wide 2\\\\drone_40b_wide 2_000053\\\\drone_40b_wide 2_000053.hdr',\n",
       " 'V:\\\\Data\\\\Hypervid\\\\St_Supery\\\\IOP6_October2021\\\\drone\\\\5ms_40b_wide_211012_130835\\\\drone_40b_wide 2\\\\drone_40b_wide 2_000054\\\\drone_40b_wide 2_000054.hdr',\n",
       " 'V:\\\\Data\\\\Hypervid\\\\St_Supery\\\\IOP6_October2021\\\\drone\\\\5ms_40b_wide_211012_130835\\\\drone_40b_wide 2\\\\drone_40b_wide 2_000055\\\\drone_40b_wide 2_000055.hdr',\n",
       " 'V:\\\\Data\\\\Hypervid\\\\St_Supery\\\\IOP6_October2021\\\\drone\\\\5ms_40b_wide_211012_130835\\\\drone_40b_wide 2\\\\drone_40b_wide 2_000056\\\\drone_40b_wide 2_000056.hdr',\n",
       " 'V:\\\\Data\\\\Hypervid\\\\St_Supery\\\\IOP6_October2021\\\\drone\\\\5ms_40b_wide_211012_130835\\\\drone_40b_wide 2\\\\drone_40b_wide 2_000057\\\\drone_40b_wide 2_000057.hdr',\n",
       " 'V:\\\\Data\\\\Hypervid\\\\St_Supery\\\\IOP6_October2021\\\\drone\\\\5ms_40b_wide_211012_130835\\\\drone_40b_wide 2\\\\drone_40b_wide 2_000058\\\\drone_40b_wide 2_000058.hdr',\n",
       " 'V:\\\\Data\\\\Hypervid\\\\St_Supery\\\\IOP6_October2021\\\\drone\\\\5ms_40b_wide_211012_130835\\\\drone_40b_wide 2\\\\drone_40b_wide 2_000059\\\\drone_40b_wide 2_000059.hdr',\n",
       " 'V:\\\\Data\\\\Hypervid\\\\St_Supery\\\\IOP6_October2021\\\\drone\\\\5ms_40b_wide_211012_130835\\\\drone_40b_wide 2\\\\drone_40b_wide 2_000060\\\\drone_40b_wide 2_000060.hdr',\n",
       " 'V:\\\\Data\\\\Hypervid\\\\St_Supery\\\\IOP6_October2021\\\\drone\\\\5ms_40b_wide_211012_130835\\\\drone_40b_wide 2\\\\drone_40b_wide 2_000061\\\\drone_40b_wide 2_000061.hdr',\n",
       " 'V:\\\\Data\\\\Hypervid\\\\St_Supery\\\\IOP6_October2021\\\\drone\\\\5ms_40b_wide_211012_130835\\\\drone_40b_wide 2\\\\drone_40b_wide 2_000062\\\\drone_40b_wide 2_000062.hdr',\n",
       " 'V:\\\\Data\\\\Hypervid\\\\St_Supery\\\\IOP6_October2021\\\\drone\\\\5ms_40b_wide_211012_130835\\\\drone_40b_wide 2\\\\drone_40b_wide 2_000063\\\\drone_40b_wide 2_000063.hdr',\n",
       " 'V:\\\\Data\\\\Hypervid\\\\St_Supery\\\\IOP6_October2021\\\\drone\\\\5ms_40b_wide_211012_130835\\\\drone_40b_wide 2\\\\drone_40b_wide 2_000064\\\\drone_40b_wide 2_000064.hdr',\n",
       " 'V:\\\\Data\\\\Hypervid\\\\St_Supery\\\\IOP6_October2021\\\\drone\\\\5ms_40b_wide_211012_130835\\\\drone_40b_wide 2\\\\drone_40b_wide 2_000065\\\\drone_40b_wide 2_000065.hdr',\n",
       " 'V:\\\\Data\\\\Hypervid\\\\St_Supery\\\\IOP6_October2021\\\\drone\\\\5ms_40b_wide_211012_130835\\\\drone_40b_wide 2\\\\drone_40b_wide 2_000066\\\\drone_40b_wide 2_000066.hdr',\n",
       " 'V:\\\\Data\\\\Hypervid\\\\St_Supery\\\\IOP6_October2021\\\\drone\\\\5ms_40b_wide_211012_130835\\\\drone_40b_wide 2\\\\drone_40b_wide 2_000067\\\\drone_40b_wide 2_000067.hdr',\n",
       " 'V:\\\\Data\\\\Hypervid\\\\St_Supery\\\\IOP6_October2021\\\\drone\\\\5ms_40b_wide_211012_130835\\\\drone_40b_wide 2\\\\drone_40b_wide 2_000068\\\\drone_40b_wide 2_000068.hdr',\n",
       " 'V:\\\\Data\\\\Hypervid\\\\St_Supery\\\\IOP6_October2021\\\\drone\\\\5ms_40b_wide_211012_130835\\\\drone_40b_wide 2\\\\drone_40b_wide 2_000069\\\\drone_40b_wide 2_000069.hdr',\n",
       " 'V:\\\\Data\\\\Hypervid\\\\St_Supery\\\\IOP6_October2021\\\\drone\\\\5ms_40b_wide_211012_130835\\\\drone_40b_wide 2\\\\drone_40b_wide 2_000070\\\\drone_40b_wide 2_000070.hdr',\n",
       " 'V:\\\\Data\\\\Hypervid\\\\St_Supery\\\\IOP6_October2021\\\\drone\\\\5ms_40b_wide_211012_130835\\\\drone_40b_wide 2\\\\drone_40b_wide 2_000071\\\\drone_40b_wide 2_000071.hdr',\n",
       " 'V:\\\\Data\\\\Hypervid\\\\St_Supery\\\\IOP6_October2021\\\\drone\\\\5ms_40b_wide_211012_130835\\\\drone_40b_wide 2\\\\drone_40b_wide 2_000072\\\\drone_40b_wide 2_000072.hdr',\n",
       " 'V:\\\\Data\\\\Hypervid\\\\St_Supery\\\\IOP6_October2021\\\\drone\\\\5ms_40b_wide_211012_130835\\\\drone_40b_wide 2\\\\drone_40b_wide 2_000073\\\\drone_40b_wide 2_000073.hdr',\n",
       " 'V:\\\\Data\\\\Hypervid\\\\St_Supery\\\\IOP6_October2021\\\\drone\\\\5ms_40b_wide_211012_130835\\\\drone_40b_wide 2\\\\drone_40b_wide 2_000074\\\\drone_40b_wide 2_000074.hdr',\n",
       " 'V:\\\\Data\\\\Hypervid\\\\St_Supery\\\\IOP6_October2021\\\\drone\\\\5ms_40b_wide_211012_130835\\\\drone_40b_wide 2\\\\drone_40b_wide 2_000075\\\\drone_40b_wide 2_000075.hdr',\n",
       " 'V:\\\\Data\\\\Hypervid\\\\St_Supery\\\\IOP6_October2021\\\\drone\\\\5ms_40b_wide_211012_130835\\\\drone_40b_wide 2\\\\drone_40b_wide 2_000076\\\\drone_40b_wide 2_000076.hdr',\n",
       " 'V:\\\\Data\\\\Hypervid\\\\St_Supery\\\\IOP6_October2021\\\\drone\\\\5ms_40b_wide_211012_130835\\\\drone_40b_wide 2\\\\drone_40b_wide 2_000077\\\\drone_40b_wide 2_000077.hdr',\n",
       " 'V:\\\\Data\\\\Hypervid\\\\St_Supery\\\\IOP6_October2021\\\\drone\\\\5ms_40b_wide_211012_130835\\\\drone_40b_wide 2\\\\drone_40b_wide 2_000078\\\\drone_40b_wide 2_000078.hdr',\n",
       " 'V:\\\\Data\\\\Hypervid\\\\St_Supery\\\\IOP6_October2021\\\\drone\\\\5ms_40b_wide_211012_130835\\\\drone_40b_wide 2\\\\drone_40b_wide 2_000079\\\\drone_40b_wide 2_000079.hdr',\n",
       " 'V:\\\\Data\\\\Hypervid\\\\St_Supery\\\\IOP6_October2021\\\\drone\\\\5ms_40b_wide_211012_130835\\\\drone_40b_wide 2\\\\drone_40b_wide 2_000080\\\\drone_40b_wide 2_000080.hdr',\n",
       " 'V:\\\\Data\\\\Hypervid\\\\St_Supery\\\\IOP6_October2021\\\\drone\\\\5ms_40b_wide_211012_130835\\\\drone_40b_wide 2\\\\drone_40b_wide 2_000081\\\\drone_40b_wide 2_000081.hdr',\n",
       " 'V:\\\\Data\\\\Hypervid\\\\St_Supery\\\\IOP6_October2021\\\\drone\\\\5ms_40b_wide_211012_130835\\\\drone_40b_wide 2\\\\drone_40b_wide 2_000082\\\\drone_40b_wide 2_000082.hdr',\n",
       " 'V:\\\\Data\\\\Hypervid\\\\St_Supery\\\\IOP6_October2021\\\\drone\\\\5ms_40b_wide_211012_130835\\\\drone_40b_wide 2\\\\drone_40b_wide 2_000083\\\\drone_40b_wide 2_000083.hdr',\n",
       " 'V:\\\\Data\\\\Hypervid\\\\St_Supery\\\\IOP6_October2021\\\\drone\\\\5ms_40b_wide_211012_130835\\\\drone_40b_wide 2\\\\drone_40b_wide 2_000084\\\\drone_40b_wide 2_000084.hdr',\n",
       " 'V:\\\\Data\\\\Hypervid\\\\St_Supery\\\\IOP6_October2021\\\\drone\\\\5ms_40b_wide_211012_130835\\\\drone_40b_wide 2\\\\drone_40b_wide 2_000085\\\\drone_40b_wide 2_000085.hdr',\n",
       " 'V:\\\\Data\\\\Hypervid\\\\St_Supery\\\\IOP6_October2021\\\\drone\\\\5ms_40b_wide_211012_130835\\\\drone_40b_wide 2\\\\drone_40b_wide 2_000086\\\\drone_40b_wide 2_000086.hdr',\n",
       " 'V:\\\\Data\\\\Hypervid\\\\St_Supery\\\\IOP6_October2021\\\\drone\\\\5ms_40b_wide_211012_130835\\\\drone_40b_wide 2\\\\drone_40b_wide 2_000087\\\\drone_40b_wide 2_000087.hdr',\n",
       " 'V:\\\\Data\\\\Hypervid\\\\St_Supery\\\\IOP6_October2021\\\\drone\\\\5ms_40b_wide_211012_130835\\\\drone_40b_wide 2\\\\drone_40b_wide 2_000088\\\\drone_40b_wide 2_000088.hdr',\n",
       " 'V:\\\\Data\\\\Hypervid\\\\St_Supery\\\\IOP6_October2021\\\\drone\\\\5ms_40b_wide_211012_130835\\\\drone_40b_wide 2\\\\drone_40b_wide 2_000089\\\\drone_40b_wide 2_000089.hdr',\n",
       " 'V:\\\\Data\\\\Hypervid\\\\St_Supery\\\\IOP6_October2021\\\\drone\\\\5ms_40b_wide_211012_130835\\\\drone_40b_wide 2\\\\drone_40b_wide 2_000090\\\\drone_40b_wide 2_000090.hdr',\n",
       " 'V:\\\\Data\\\\Hypervid\\\\St_Supery\\\\IOP6_October2021\\\\drone\\\\5ms_40b_wide_211012_130835\\\\drone_40b_wide 2\\\\drone_40b_wide 2_000091\\\\drone_40b_wide 2_000091.hdr',\n",
       " 'V:\\\\Data\\\\Hypervid\\\\St_Supery\\\\IOP6_October2021\\\\drone\\\\5ms_40b_wide_211012_130835\\\\drone_40b_wide 2\\\\drone_40b_wide 2_000092\\\\drone_40b_wide 2_000092.hdr',\n",
       " 'V:\\\\Data\\\\Hypervid\\\\St_Supery\\\\IOP6_October2021\\\\drone\\\\5ms_40b_wide_211012_130835\\\\drone_40b_wide 2\\\\drone_40b_wide 2_000093\\\\drone_40b_wide 2_000093.hdr',\n",
       " 'V:\\\\Data\\\\Hypervid\\\\St_Supery\\\\IOP6_October2021\\\\drone\\\\5ms_40b_wide_211012_130835\\\\drone_40b_wide 2\\\\drone_40b_wide 2_000094\\\\drone_40b_wide 2_000094.hdr',\n",
       " 'V:\\\\Data\\\\Hypervid\\\\St_Supery\\\\IOP6_October2021\\\\drone\\\\5ms_40b_wide_211012_130835\\\\drone_40b_wide 2\\\\drone_40b_wide 2_000095\\\\drone_40b_wide 2_000095.hdr',\n",
       " 'V:\\\\Data\\\\Hypervid\\\\St_Supery\\\\IOP6_October2021\\\\drone\\\\5ms_40b_wide_211012_130835\\\\drone_40b_wide 2\\\\drone_40b_wide 2_000096\\\\drone_40b_wide 2_000096.hdr',\n",
       " 'V:\\\\Data\\\\Hypervid\\\\St_Supery\\\\IOP6_October2021\\\\drone\\\\5ms_40b_wide_211012_130835\\\\drone_40b_wide 2\\\\drone_40b_wide 2_000097\\\\drone_40b_wide 2_000097.hdr',\n",
       " 'V:\\\\Data\\\\Hypervid\\\\St_Supery\\\\IOP6_October2021\\\\drone\\\\5ms_40b_wide_211012_130835\\\\drone_40b_wide 2\\\\drone_40b_wide 2_000098\\\\drone_40b_wide 2_000098.hdr',\n",
       " 'V:\\\\Data\\\\Hypervid\\\\St_Supery\\\\IOP6_October2021\\\\drone\\\\5ms_40b_wide_211012_130835\\\\drone_40b_wide 2\\\\drone_40b_wide 2_000099\\\\drone_40b_wide 2_000099.hdr']"
      ]
     },
     "execution_count": 3,
     "metadata": {},
     "output_type": "execute_result"
    }
   ],
   "source": [
    "hdrs"
   ]
  },
  {
   "cell_type": "code",
   "execution_count": 4,
   "metadata": {},
   "outputs": [
    {
     "name": "stdout",
     "output_type": "stream",
     "text": [
      "loading hypercube...\n",
      "RGB is not initialized\n",
      "HSI load complete...\n",
      "Image saved: Z:\\Data\\Hypervid\\Drone\\St_Supery\\IOP6_test/drone_40b_wide 2_00000_band24.tif\n",
      "loading hypercube...\n",
      "RGB is not initialized\n",
      "HSI load complete...\n",
      "Image saved: Z:\\Data\\Hypervid\\Drone\\St_Supery\\IOP6_test/drone_40b_wide 2_00001_band24.tif\n",
      "loading hypercube...\n",
      "RGB is not initialized\n",
      "HSI load complete...\n",
      "Image saved: Z:\\Data\\Hypervid\\Drone\\St_Supery\\IOP6_test/drone_40b_wide 2_00002_band24.tif\n",
      "loading hypercube...\n",
      "RGB is not initialized\n",
      "HSI load complete...\n",
      "Image saved: Z:\\Data\\Hypervid\\Drone\\St_Supery\\IOP6_test/drone_40b_wide 2_00003_band24.tif\n",
      "loading hypercube...\n",
      "RGB is not initialized\n",
      "HSI load complete...\n",
      "Image saved: Z:\\Data\\Hypervid\\Drone\\St_Supery\\IOP6_test/drone_40b_wide 2_00004_band24.tif\n",
      "loading hypercube...\n",
      "RGB is not initialized\n",
      "HSI load complete...\n",
      "Image saved: Z:\\Data\\Hypervid\\Drone\\St_Supery\\IOP6_test/drone_40b_wide 2_00005_band24.tif\n",
      "loading hypercube...\n",
      "RGB is not initialized\n",
      "HSI load complete...\n",
      "Image saved: Z:\\Data\\Hypervid\\Drone\\St_Supery\\IOP6_test/drone_40b_wide 2_00006_band24.tif\n",
      "loading hypercube...\n",
      "RGB is not initialized\n",
      "HSI load complete...\n",
      "Image saved: Z:\\Data\\Hypervid\\Drone\\St_Supery\\IOP6_test/drone_40b_wide 2_00007_band24.tif\n",
      "loading hypercube...\n"
     ]
    }
   ],
   "source": [
    "i = 0\n",
    "for hdr in hdrs:\n",
    "    \n",
    "    Data_HSI = HSI_Model(path_hcube=hdr,imgName=f\"drone_40b_wide 2_0000{str(i)}\",load_data=True)\n",
    "    Data_HSI.georef_band(savePath=r\"Z:\\Data\\Hypervid\\Drone\\St_Supery\\IOP6_test\",band=24,diagonalExtent=34.4,heading=0)\n",
    "    i = i+1    "
   ]
  },
  {
   "cell_type": "code",
   "execution_count": 2,
   "metadata": {},
   "outputs": [
    {
     "name": "stdout",
     "output_type": "stream",
     "text": [
      "The coordinate point, Latitude: 38.45729795, Longitude: -122.41017385\n"
     ]
    }
   ],
   "source": [
    "print(f\"The coordinate point, Latitude: {Data_HSI.latList}, Longitude: {Data_HSI.longList}\")"
   ]
  },
  {
   "cell_type": "markdown",
   "metadata": {},
   "source": [
    "### Generate a geotiff\n",
    "Lots of parameters here many of which are optional, may require some experimentation"
   ]
  },
  {
   "cell_type": "code",
   "execution_count": 3,
   "metadata": {},
   "outputs": [
    {
     "name": "stdout",
     "output_type": "stream",
     "text": [
      "Help on method georef_band in module SpectralUtilities.HSI_Model:\n",
      "\n",
      "georef_band(savePath: str, band: int, diagonalExtent: float, heading: int = 0, dOffset: int = 0, rot: bool = False, rotAngle: int = 0) -> None method of SpectralUtilities.HSI_Model.HSI_Model instance\n",
      "    Produce a georeferenced image and save to disk.\n",
      "    Provide a capture window in meters, and a \n",
      "    \n",
      "    Parameters:\n",
      "    -----------\n",
      "        savePath         (str)   : The directory location to save the output file\n",
      "        band             (int)   : What wavelength to perform this operation on, by index\n",
      "        diagonalExtent   (float) : The extent by which the capture frame covers in meters\n",
      "        heading          (int)   : The pygeo standard for bearing, used in image skew. In the case of North-up imagery, use default 0. \n",
      "        dOffset          (int)   : For non-aerial imagery, this offset serves to place the point of capture with subject, default 0.\n",
      "        dOffsetBearing   (int)   : The direction for which to apply the offset to subject. [0:360]\n",
      "\n"
     ]
    }
   ],
   "source": [
    "help(Data_HSI.georef_band)"
   ]
  },
  {
   "cell_type": "code",
   "execution_count": 9,
   "metadata": {},
   "outputs": [
    {
     "name": "stdout",
     "output_type": "stream",
     "text": [
      "Image saved: C:\\Users\\15593\\Desktop\\NAS2 Work\\DroneImagery\\testGeoTiff/drone_40b_wide 2_000065_band24.tif\n"
     ]
    }
   ],
   "source": [
    "\n",
    "Data_HSI.georef_band(savePath=r\"C:\\Users\\15593\\Desktop\\NAS2 Work\\DroneImagery\\testGeoTiff\",band=24,diagonalExtent=34.4,heading=58)\n"
   ]
  },
  {
   "cell_type": "code",
   "execution_count": 7,
   "metadata": {},
   "outputs": [
    {
     "name": "stdout",
     "output_type": "stream",
     "text": [
      "loading hypercube...\n",
      "RGB is not initialized\n",
      "HSI load complete...\n"
     ]
    }
   ],
   "source": [
    "# prevHSI = r\"V:\\Data\\Hypervid\\St_Supery\\IOP3_July2021\\drone\\5ms_40b_wide_210728_141229\\drone_40b_wide 2\\drone_40b_wide 2_000095\\drone_40b_wide 2_000095.hdr\"\n",
    "Data_HSI = HSI_Model(path_hcube=hdrs[65],imgName=\"drone_40b_wide 2_000065\",load_data=True) \n"
   ]
  },
  {
   "cell_type": "code",
   "execution_count": 6,
   "metadata": {},
   "outputs": [
    {
     "name": "stdout",
     "output_type": "stream",
     "text": [
      "loading hypercube...\n",
      "RGB is not initialized\n",
      "HSI load complete...\n"
     ]
    }
   ],
   "source": [
    "# farbackHSI = r\"V:\\Data\\Hypervid\\St_Supery\\IOP3_July2021\\drone\\5ms_40b_wide_210728_141229\\drone_40b_wide 2\\drone_40b_wide 2_000076\\drone_40b_wide 2_000076.hdr\"\n",
    "# Data_HSI = HSI_Model(path_hcube=farbackHSI,imgName=\"drone_40b_wide 2_000076\",load_data=True) "
   ]
  }
 ],
 "metadata": {
  "kernelspec": {
   "display_name": "Python 3.10.0 64-bit",
   "language": "python",
   "name": "python3"
  },
  "language_info": {
   "codemirror_mode": {
    "name": "ipython",
    "version": 3
   },
   "file_extension": ".py",
   "mimetype": "text/x-python",
   "name": "python",
   "nbconvert_exporter": "python",
   "pygments_lexer": "ipython3",
   "version": "3.10.0"
  },
  "orig_nbformat": 4,
  "vscode": {
   "interpreter": {
    "hash": "369f2c481f4da34e4445cda3fffd2e751bd1c4d706f27375911949ba6bb62e1c"
   }
  }
 },
 "nbformat": 4,
 "nbformat_minor": 2
}
