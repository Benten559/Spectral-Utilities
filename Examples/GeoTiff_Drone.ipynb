{
 "cells": [
  {
   "cell_type": "markdown",
   "metadata": {},
   "source": [
    "#### Use of spatial data\n",
    "Currently, if a loaded data set is not of the pushbroom (BIL) type, it will contain only a single lat/long"
   ]
  },
  {
   "cell_type": "code",
   "execution_count": 1,
   "metadata": {},
   "outputs": [],
   "source": [
    "import matplotlib.pyplot as plt # for display purposes\n",
    "import sys\n",
    "sys.path.append(\"..\")\n",
    "from SpectralUtilities import HSI_Model, HDRprocess, GPGGAParser"
   ]
  },
  {
   "cell_type": "code",
   "execution_count": 2,
   "metadata": {},
   "outputs": [],
   "source": [
    "# rootPath = r\"V:\\Data\\Hypervid\\St_Supery\\IOP3_July2021\\drone\\5ms_40b_wide_210728_141229\\drone_40b_wide 2\"\n",
    "# dirs = HDRprocess.get_folder_list_from_root_dir(rootPath)\n",
    "hdrs = [HDRprocess.get_hdr_file_path(dir) for dir in dirs[90]]"
   ]
  },
  {
   "cell_type": "code",
   "execution_count": 16,
   "metadata": {},
   "outputs": [
    {
     "data": {
      "text/plain": [
       "['V:\\\\Data\\\\Hypervid\\\\St_Supery\\\\IOP3_July2021\\\\drone\\\\5ms_40b_wide_210728_141229\\\\drone_40b_wide 2\\\\drone_40b_wide 2_000080\\\\drone_40b_wide 2_000080.hdr',\n",
       " 'V:\\\\Data\\\\Hypervid\\\\St_Supery\\\\IOP3_July2021\\\\drone\\\\5ms_40b_wide_210728_141229\\\\drone_40b_wide 2\\\\drone_40b_wide 2_000081\\\\drone_40b_wide 2_000081.hdr',\n",
       " 'V:\\\\Data\\\\Hypervid\\\\St_Supery\\\\IOP3_July2021\\\\drone\\\\5ms_40b_wide_210728_141229\\\\drone_40b_wide 2\\\\drone_40b_wide 2_000082\\\\drone_40b_wide 2_000082.hdr',\n",
       " 'V:\\\\Data\\\\Hypervid\\\\St_Supery\\\\IOP3_July2021\\\\drone\\\\5ms_40b_wide_210728_141229\\\\drone_40b_wide 2\\\\drone_40b_wide 2_000083\\\\drone_40b_wide 2_000083.hdr',\n",
       " 'V:\\\\Data\\\\Hypervid\\\\St_Supery\\\\IOP3_July2021\\\\drone\\\\5ms_40b_wide_210728_141229\\\\drone_40b_wide 2\\\\drone_40b_wide 2_000084\\\\drone_40b_wide 2_000084.hdr',\n",
       " 'V:\\\\Data\\\\Hypervid\\\\St_Supery\\\\IOP3_July2021\\\\drone\\\\5ms_40b_wide_210728_141229\\\\drone_40b_wide 2\\\\drone_40b_wide 2_000085\\\\drone_40b_wide 2_000085.hdr',\n",
       " 'V:\\\\Data\\\\Hypervid\\\\St_Supery\\\\IOP3_July2021\\\\drone\\\\5ms_40b_wide_210728_141229\\\\drone_40b_wide 2\\\\drone_40b_wide 2_000086\\\\drone_40b_wide 2_000086.hdr',\n",
       " 'V:\\\\Data\\\\Hypervid\\\\St_Supery\\\\IOP3_July2021\\\\drone\\\\5ms_40b_wide_210728_141229\\\\drone_40b_wide 2\\\\drone_40b_wide 2_000087\\\\drone_40b_wide 2_000087.hdr',\n",
       " 'V:\\\\Data\\\\Hypervid\\\\St_Supery\\\\IOP3_July2021\\\\drone\\\\5ms_40b_wide_210728_141229\\\\drone_40b_wide 2\\\\drone_40b_wide 2_000088\\\\drone_40b_wide 2_000088.hdr',\n",
       " 'V:\\\\Data\\\\Hypervid\\\\St_Supery\\\\IOP3_July2021\\\\drone\\\\5ms_40b_wide_210728_141229\\\\drone_40b_wide 2\\\\drone_40b_wide 2_000089\\\\drone_40b_wide 2_000089.hdr']"
      ]
     },
     "execution_count": 16,
     "metadata": {},
     "output_type": "execute_result"
    }
   ],
   "source": [
    "hdrs"
   ]
  },
  {
   "cell_type": "code",
   "execution_count": 5,
   "metadata": {},
   "outputs": [
    {
     "name": "stdout",
     "output_type": "stream",
     "text": [
      "loading hypercube...\n",
      "RGB is not initialized\n",
      "HSI load complete...\n",
      "Img name: drone_40b_wide 2_0000_80\n",
      "Image saved: Z:\\Data\\Hypervid\\Drone\\St_Supery\\10Gtiffs/drone_40b_wide 2_0000_80_band24.tif\n",
      "loading hypercube...\n",
      "RGB is not initialized\n",
      "HSI load complete...\n",
      "Img name: drone_40b_wide 2_0000_81\n",
      "Image saved: Z:\\Data\\Hypervid\\Drone\\St_Supery\\10Gtiffs/drone_40b_wide 2_0000_81_band24.tif\n",
      "loading hypercube...\n",
      "RGB is not initialized\n",
      "HSI load complete...\n",
      "Img name: drone_40b_wide 2_0000_82\n",
      "Image saved: Z:\\Data\\Hypervid\\Drone\\St_Supery\\10Gtiffs/drone_40b_wide 2_0000_82_band24.tif\n",
      "loading hypercube...\n",
      "RGB is not initialized\n",
      "HSI load complete...\n",
      "Img name: drone_40b_wide 2_0000_83\n",
      "Image saved: Z:\\Data\\Hypervid\\Drone\\St_Supery\\10Gtiffs/drone_40b_wide 2_0000_83_band24.tif\n",
      "loading hypercube...\n",
      "RGB is not initialized\n",
      "HSI load complete...\n",
      "Img name: drone_40b_wide 2_0000_84\n",
      "Image saved: Z:\\Data\\Hypervid\\Drone\\St_Supery\\10Gtiffs/drone_40b_wide 2_0000_84_band24.tif\n",
      "loading hypercube...\n",
      "RGB is not initialized\n",
      "HSI load complete...\n",
      "Img name: drone_40b_wide 2_0000_85\n",
      "Image saved: Z:\\Data\\Hypervid\\Drone\\St_Supery\\10Gtiffs/drone_40b_wide 2_0000_85_band24.tif\n",
      "loading hypercube...\n",
      "RGB is not initialized\n",
      "HSI load complete...\n",
      "Img name: drone_40b_wide 2_0000_86\n",
      "Image saved: Z:\\Data\\Hypervid\\Drone\\St_Supery\\10Gtiffs/drone_40b_wide 2_0000_86_band24.tif\n",
      "loading hypercube...\n",
      "RGB is not initialized\n",
      "HSI load complete...\n",
      "Img name: drone_40b_wide 2_0000_87\n",
      "Image saved: Z:\\Data\\Hypervid\\Drone\\St_Supery\\10Gtiffs/drone_40b_wide 2_0000_87_band24.tif\n",
      "loading hypercube...\n",
      "RGB is not initialized\n",
      "HSI load complete...\n",
      "Img name: drone_40b_wide 2_0000_88\n",
      "Image saved: Z:\\Data\\Hypervid\\Drone\\St_Supery\\10Gtiffs/drone_40b_wide 2_0000_88_band24.tif\n",
      "loading hypercube...\n",
      "RGB is not initialized\n",
      "HSI load complete...\n",
      "Img name: drone_40b_wide 2_0000_89\n",
      "Image saved: Z:\\Data\\Hypervid\\Drone\\St_Supery\\10Gtiffs/drone_40b_wide 2_0000_89_band24.tif\n"
     ]
    }
   ],
   "source": [
    "i = 0\n",
    "for hdr in hdrs:\n",
    "    \n",
    "    Data_HSI = HSI_Model(path_hcube=hdr,imgName=f\"drone_40b_wide 2_0000{str(80+i)}\",load_data=True) \n",
    "    print(f\"Img name: drone_40b_wide 2_0000_{str(80+i)}\")\n",
    "    Data_HSI.georef_band(savePath=r\"Z:\\Data\\Hypervid\\Drone\\St_Supery\\10Gtiffs\",band=24,diagonalExtent=34.4,heading=0)\n",
    "    i = i+1    "
   ]
  },
  {
   "cell_type": "code",
   "execution_count": 2,
   "metadata": {},
   "outputs": [
    {
     "name": "stdout",
     "output_type": "stream",
     "text": [
      "The coordinate point, Latitude: 38.45729795, Longitude: -122.41017385\n"
     ]
    }
   ],
   "source": [
    "print(f\"The coordinate point, Latitude: {Data_HSI.latList}, Longitude: {Data_HSI.longList}\")"
   ]
  },
  {
   "cell_type": "markdown",
   "metadata": {},
   "source": [
    "### Generate a geotiff\n",
    "Lots of parameters here many of which are optional, may require some experimentation"
   ]
  },
  {
   "cell_type": "code",
   "execution_count": 3,
   "metadata": {},
   "outputs": [
    {
     "name": "stdout",
     "output_type": "stream",
     "text": [
      "Help on method georef_band in module SpectralUtilities.HSI_Model:\n",
      "\n",
      "georef_band(savePath: str, band: int, diagonalExtent: float, heading: int = 0, dOffset: int = 0, rot: bool = False, rotAngle: int = 0) -> None method of SpectralUtilities.HSI_Model.HSI_Model instance\n",
      "    Produce a georeferenced image and save to disk.\n",
      "    Provide a capture window in meters, and a \n",
      "    \n",
      "    Parameters:\n",
      "    -----------\n",
      "        savePath         (str)   : The directory location to save the output file\n",
      "        band             (int)   : What wavelength to perform this operation on, by index\n",
      "        diagonalExtent   (float) : The extent by which the capture frame covers in meters\n",
      "        heading          (int)   : The pygeo standard for bearing, used in image skew. In the case of North-up imagery, use default 0. \n",
      "        dOffset          (int)   : For non-aerial imagery, this offset serves to place the point of capture with subject, default 0.\n",
      "        dOffsetBearing   (int)   : The direction for which to apply the offset to subject. [0:360]\n",
      "\n"
     ]
    }
   ],
   "source": [
    "help(Data_HSI.georef_band)"
   ]
  },
  {
   "cell_type": "code",
   "execution_count": 2,
   "metadata": {},
   "outputs": [
    {
     "name": "stdout",
     "output_type": "stream",
     "text": [
      "Image saved: C:\\Users\\15593\\Desktop\\NAS2 Work\\DroneImagery\\testGeoTiff/drone_40b_wide 2_000096_band24.tif\n"
     ]
    }
   ],
   "source": [
    "\n",
    "Data_HSI.georef_band(savePath=r\"C:\\Users\\15593\\Desktop\\NAS2 Work\\DroneImagery\\testGeoTiff\",band=24,diagonalExtent=34.4,heading=)\n"
   ]
  },
  {
   "cell_type": "code",
   "execution_count": 4,
   "metadata": {},
   "outputs": [
    {
     "name": "stdout",
     "output_type": "stream",
     "text": [
      "loading hypercube...\n",
      "RGB is not initialized\n",
      "HSI load complete...\n"
     ]
    }
   ],
   "source": [
    "prevHSI = r\"V:\\Data\\Hypervid\\St_Supery\\IOP3_July2021\\drone\\5ms_40b_wide_210728_141229\\drone_40b_wide 2\\drone_40b_wide 2_000095\\drone_40b_wide 2_000095.hdr\"\n",
    "Data_HSI = HSI_Model(path_hcube=prevHSI,imgName=\"drone_40b_wide 2_000095\",load_data=True) \n"
   ]
  },
  {
   "cell_type": "code",
   "execution_count": 6,
   "metadata": {},
   "outputs": [
    {
     "name": "stdout",
     "output_type": "stream",
     "text": [
      "loading hypercube...\n",
      "RGB is not initialized\n",
      "HSI load complete...\n"
     ]
    }
   ],
   "source": [
    "farbackHSI = r\"V:\\Data\\Hypervid\\St_Supery\\IOP3_July2021\\drone\\5ms_40b_wide_210728_141229\\drone_40b_wide 2\\drone_40b_wide 2_000076\\drone_40b_wide 2_000076.hdr\"\n",
    "Data_HSI = HSI_Model(path_hcube=farbackHSI,imgName=\"drone_40b_wide 2_000076\",load_data=True) "
   ]
  }
 ],
 "metadata": {
  "kernelspec": {
   "display_name": "Python 3.10.0 64-bit",
   "language": "python",
   "name": "python3"
  },
  "language_info": {
   "codemirror_mode": {
    "name": "ipython",
    "version": 3
   },
   "file_extension": ".py",
   "mimetype": "text/x-python",
   "name": "python",
   "nbconvert_exporter": "python",
   "pygments_lexer": "ipython3",
   "version": "3.10.0"
  },
  "orig_nbformat": 4,
  "vscode": {
   "interpreter": {
    "hash": "369f2c481f4da34e4445cda3fffd2e751bd1c4d706f27375911949ba6bb62e1c"
   }
  }
 },
 "nbformat": 4,
 "nbformat_minor": 2
}
