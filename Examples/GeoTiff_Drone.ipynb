{
 "cells": [
  {
   "cell_type": "markdown",
   "metadata": {},
   "source": [
    "#### Use of spatial data\n",
    "Currently, if a loaded data set is not of the pushbroom (BIL) type, it will contain only a single lat/long"
   ]
  },
  {
   "cell_type": "code",
   "execution_count": 1,
   "metadata": {},
   "outputs": [
    {
     "name": "stdout",
     "output_type": "stream",
     "text": [
      "loading hypercube...\n",
      "RGB is not initialized\n",
      "HSI load complete...\n"
     ]
    }
   ],
   "source": [
    "import matplotlib.pyplot as plt # for display purposes\n",
    "import sys\n",
    "sys.path.append(\"..\")\n",
    "from SpectralUtilities import HSI_Model, HDRprocess, GPGGAParser\n",
    "\n",
    "hdrFile = r\"V:\\Data\\Hypervid\\St_Supery\\IOP3_July2021\\drone\\5ms_40b_wide_210728_141229\\drone_40b_wide 2\\drone_40b_wide 2_000096\\drone_40b_wide 2_000096.hdr\"#r\"C:\\Users\\15593\\Desktop\\NAS2 Work\\DroneImagery\\drone_40b_wide 2_000096\\drone_40b_wide 2_000096.hdr\"\n",
    "Data_HSI = HSI_Model(path_hcube=hdrFile,imgName=\"drone_40b_wide 2_000096\",load_data=True) \n"
   ]
  },
  {
   "cell_type": "code",
   "execution_count": 2,
   "metadata": {},
   "outputs": [
    {
     "name": "stdout",
     "output_type": "stream",
     "text": [
      "The coordinate point, Latitude: 38.45729795, Longitude: -122.41017385\n"
     ]
    }
   ],
   "source": [
    "print(f\"The coordinate point, Latitude: {Data_HSI.latList}, Longitude: {Data_HSI.longList}\")"
   ]
  },
  {
   "cell_type": "markdown",
   "metadata": {},
   "source": [
    "### Generate a geotiff\n",
    "Lots of parameters here many of which are optional, may require some experimentation"
   ]
  },
  {
   "cell_type": "code",
   "execution_count": 3,
   "metadata": {},
   "outputs": [
    {
     "name": "stdout",
     "output_type": "stream",
     "text": [
      "Help on method georef_band in module SpectralUtilities.HSI_Model:\n",
      "\n",
      "georef_band(savePath: str, band: int, diagonalExtent: float, heading: int = 0, dOffset: int = 0, rot: bool = False, rotAngle: int = 0) -> None method of SpectralUtilities.HSI_Model.HSI_Model instance\n",
      "    Produce a georeferenced image and save to disk.\n",
      "    Provide a capture window in meters, and a \n",
      "    \n",
      "    Parameters:\n",
      "    -----------\n",
      "        savePath         (str)   : The directory location to save the output file\n",
      "        band             (int)   : What wavelength to perform this operation on, by index\n",
      "        diagonalExtent   (float) : The extent by which the capture frame covers in meters\n",
      "        heading          (int)   : The pygeo standard for bearing, used in image skew. In the case of North-up imagery, use default 0. \n",
      "        dOffset          (int)   : For non-aerial imagery, this offset serves to place the point of capture with subject, default 0.\n",
      "        dOffsetBearing   (int)   : The direction for which to apply the offset to subject. [0:360]\n",
      "\n"
     ]
    }
   ],
   "source": [
    "help(Data_HSI.georef_band)"
   ]
  },
  {
   "cell_type": "code",
   "execution_count": 4,
   "metadata": {},
   "outputs": [
    {
     "name": "stdout",
     "output_type": "stream",
     "text": [
      "Image saved: C:\\Users\\15593\\Desktop\\Rover/drone_40b_wide 2_000096.tif\n"
     ]
    }
   ],
   "source": [
    "Data_HSI.georef_band(savePath=r\"C:\\Users\\15593\\Desktop\\Rover\",band=25,diagonalExtent=20.4,heading=0)\n"
   ]
  }
 ],
 "metadata": {
  "kernelspec": {
   "display_name": "Python 3.10.0 64-bit",
   "language": "python",
   "name": "python3"
  },
  "language_info": {
   "codemirror_mode": {
    "name": "ipython",
    "version": 3
   },
   "file_extension": ".py",
   "mimetype": "text/x-python",
   "name": "python",
   "nbconvert_exporter": "python",
   "pygments_lexer": "ipython3",
   "version": "3.10.0"
  },
  "orig_nbformat": 4,
  "vscode": {
   "interpreter": {
    "hash": "369f2c481f4da34e4445cda3fffd2e751bd1c4d706f27375911949ba6bb62e1c"
   }
  }
 },
 "nbformat": 4,
 "nbformat_minor": 2
}
