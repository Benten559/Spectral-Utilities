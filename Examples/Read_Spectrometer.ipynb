{
 "cells": [
  {
   "cell_type": "code",
   "execution_count": 7,
   "metadata": {},
   "outputs": [
    {
     "name": "stdout",
     "output_type": "stream",
     "text": [
      "HR.081623.0000.sig\n",
      "HI: 5232141 (HR-1024i)\n",
      "      wv        1       2  refl\n",
      "0  337.2  1046.50  104.00  9.94\n",
      "1  338.7  1146.23  102.74  8.96\n",
      "2  340.2  1183.19   98.34  8.31\n",
      "3  341.6  1230.89   83.45  6.78\n",
      "4  343.1  1250.85   92.23  7.37\n"
     ]
    }
   ],
   "source": [
    "import sys\n",
    "sys.path.append(\"..\")\n",
    "from SpectralUtilities import SpectraVistaData\n",
    "file_path = '/home/ben/Downloads/HR.081623.0000.sig'\n",
    "spectra_data = SpectraVistaData(file_path)\n",
    "\n",
    "# Accessing parsed values\n",
    "print(spectra_data.name)\n",
    "print(spectra_data.instrument)\n",
    "# ... access other variables similarly\n",
    "\n",
    "# Accessing data array\n",
    "# This is created as a pandas dataframe\n",
    "print(spectra_data.data.head())"
   ]
  }
 ],
 "metadata": {
  "kernelspec": {
   "display_name": "spectral-env",
   "language": "python",
   "name": "python3"
  },
  "language_info": {
   "codemirror_mode": {
    "name": "ipython",
    "version": 3
   },
   "file_extension": ".py",
   "mimetype": "text/x-python",
   "name": "python",
   "nbconvert_exporter": "python",
   "pygments_lexer": "ipython3",
   "version": "3.10.12"
  }
 },
 "nbformat": 4,
 "nbformat_minor": 2
}
