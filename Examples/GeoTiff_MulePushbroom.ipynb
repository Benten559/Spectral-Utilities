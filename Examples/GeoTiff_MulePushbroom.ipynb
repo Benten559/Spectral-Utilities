{
 "cells": [
  {
   "cell_type": "code",
   "execution_count": null,
   "metadata": {},
   "outputs": [],
   "source": [
    "import sys\n",
    "import os\n",
    "import os.path \n",
    "sys.path.append(r\"C:\\Users\\15593\\Documents\\repos\\Spectral-Utilities\")\n",
    "from SpectralUtilities import HSI_Model, HDRprocess, GPGGAParser\n",
    "\n",
    "def get_hsi_data(dataDir:str) -> tuple[str,str]:\n",
    "    captureList = [root for root, dirnames, filenames in os.walk(dataDir) if  \"capture\" in root  ]\n",
    "    imgNames = HDRprocess.get_hsi_folder_names(dataDir,not_std=True)\n",
    "    hdrList = [HDRprocess.get_hdr_file_path(cap) for cap in captureList]\n",
    "    navList = [f\"{hdr[:-3]}nav\" for hdr in hdrList]\n",
    "    return hdrList, navList, imgNames"
   ]
  },
  {
   "cell_type": "code",
   "execution_count": null,
   "metadata": {},
   "outputs": [],
   "source": [
    "# Change the data directory to top-level folder containing parent captures\n",
    "dataDir = r\"Z:\\Data\\Gallo_berrycompo\\Specim_images\\1007\"\n",
    "# Where things will get saved to\n",
    "savePath = r\"Z:\\Data\\Gallo_berrycompo\\Specim_images\\1007_Georef_Tif\""
   ]
  },
  {
   "cell_type": "code",
   "execution_count": null,
   "metadata": {},
   "outputs": [],
   "source": [
    "#Gather the paths for the data\n",
    "hdrList, navList, imgNames = get_hsi_data(dataDir=dataDir)"
   ]
  },
  {
   "cell_type": "code",
   "execution_count": null,
   "metadata": {},
   "outputs": [],
   "source": [
    "for idx,img in enumerate(imgNames):\n",
    "    bandSavePath = os.path.join(savePath,img)\n",
    "    rgbSavePath = os.path.join(bandSavePath,\"rgb\")\n",
    "    if \"_nfl1\" in img:\n",
    "        southUp = True\n",
    "    else:\n",
    "        southUp = False\n",
    "\n",
    "    if not os.path.isdir(bandSavePath):\n",
    "        os.mkdir(bandSavePath)\n",
    "    if not os.path.isdir(rgbSavePath):\n",
    "        os.mkdir(rgbSavePath)\n",
    "    Data_HSI = HSI_Model(path_hcube=hdrList[idx],imgName=img,dataset=\"pushbroom\",nav_file=navList[idx])\n",
    "    # create an rgb\n",
    "    Data_HSI.set_rgb_by_wv_index(r=25,g=54,b=68,rot=True)\n",
    "    Data_HSI.save_rgb(rgbSavePath)\n",
    "    for bandIdx, band in enumerate(Data_HSI.wv):\n",
    "        Data_HSI.georef_pushbroom_band(savePath=bandSavePath,band=bandIdx,diagonalExtent=2,dOffset=1,rot=southUp)"
   ]
  }
 ],
 "metadata": {
  "kernelspec": {
   "display_name": "Python 3.9.5 64-bit",
   "language": "python",
   "name": "python3"
  },
  "language_info": {
   "codemirror_mode": {
    "name": "ipython",
    "version": 3
   },
   "file_extension": ".py",
   "mimetype": "text/x-python",
   "name": "python",
   "nbconvert_exporter": "python",
   "pygments_lexer": "ipython3",
   "version": "3.9.5"
  },
  "orig_nbformat": 4,
  "vscode": {
   "interpreter": {
    "hash": "3d42889e56c5487332d3cf8287e4298d4ed8c4b47663c1ff4351194cb2081dd2"
   }
  }
 },
 "nbformat": 4,
 "nbformat_minor": 2
}
